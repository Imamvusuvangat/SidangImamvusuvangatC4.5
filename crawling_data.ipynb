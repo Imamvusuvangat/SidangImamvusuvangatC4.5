{
  "nbformat": 4,
  "nbformat_minor": 0,
  "metadata": {
    "colab": {
      "provenance": []
    },
    "kernelspec": {
      "name": "python3",
      "display_name": "Python 3"
    },
    "language_info": {
      "name": "python"
    }
  },
  "cells": [
    {
      "cell_type": "code",
      "execution_count": 1,
      "metadata": {
        "colab": {
          "base_uri": "https://localhost:8080/"
        },
        "id": "1RTXn_3N97DT",
        "outputId": "c75109fc-5af9-40aa-abae-c7919a9e36db"
      },
      "outputs": [
        {
          "output_type": "stream",
          "name": "stdout",
          "text": [
            "Looking in indexes: https://pypi.org/simple, https://us-python.pkg.dev/colab-wheels/public/simple/\n",
            "Collecting snscrape\n",
            "  Downloading snscrape-0.4.3.20220106-py3-none-any.whl (59 kB)\n",
            "\u001b[K     |████████████████████████████████| 59 kB 1.6 MB/s \n",
            "\u001b[?25hRequirement already satisfied: lxml in /usr/local/lib/python3.8/dist-packages (from snscrape) (4.9.1)\n",
            "Requirement already satisfied: requests[socks] in /usr/local/lib/python3.8/dist-packages (from snscrape) (2.23.0)\n",
            "Requirement already satisfied: filelock in /usr/local/lib/python3.8/dist-packages (from snscrape) (3.8.0)\n",
            "Requirement already satisfied: beautifulsoup4 in /usr/local/lib/python3.8/dist-packages (from snscrape) (4.6.3)\n",
            "Requirement already satisfied: pytz in /usr/local/lib/python3.8/dist-packages (from snscrape) (2022.6)\n",
            "Requirement already satisfied: idna<3,>=2.5 in /usr/local/lib/python3.8/dist-packages (from requests[socks]->snscrape) (2.10)\n",
            "Requirement already satisfied: certifi>=2017.4.17 in /usr/local/lib/python3.8/dist-packages (from requests[socks]->snscrape) (2022.9.24)\n",
            "Requirement already satisfied: urllib3!=1.25.0,!=1.25.1,<1.26,>=1.21.1 in /usr/local/lib/python3.8/dist-packages (from requests[socks]->snscrape) (1.24.3)\n",
            "Requirement already satisfied: chardet<4,>=3.0.2 in /usr/local/lib/python3.8/dist-packages (from requests[socks]->snscrape) (3.0.4)\n",
            "Requirement already satisfied: PySocks!=1.5.7,>=1.5.6 in /usr/local/lib/python3.8/dist-packages (from requests[socks]->snscrape) (1.7.1)\n",
            "Installing collected packages: snscrape\n",
            "Successfully installed snscrape-0.4.3.20220106\n"
          ]
        }
      ],
      "source": [
        "!pip install snscrape"
      ]
    },
    {
      "cell_type": "code",
      "source": [
        "!pip install git+https://github.com/JustAnotherArchivist/snscrape.git"
      ],
      "metadata": {
        "colab": {
          "base_uri": "https://localhost:8080/"
        },
        "id": "eZ8qk3DJ-ej-",
        "outputId": "8832703c-6744-41f4-9006-2db97753eb0f"
      },
      "execution_count": 2,
      "outputs": [
        {
          "output_type": "stream",
          "name": "stdout",
          "text": [
            "Looking in indexes: https://pypi.org/simple, https://us-python.pkg.dev/colab-wheels/public/simple/\n",
            "Collecting git+https://github.com/JustAnotherArchivist/snscrape.git\n",
            "  Cloning https://github.com/JustAnotherArchivist/snscrape.git to /tmp/pip-req-build-m0umb5_z\n",
            "  Running command git clone -q https://github.com/JustAnotherArchivist/snscrape.git /tmp/pip-req-build-m0umb5_z\n",
            "Requirement already satisfied: requests[socks] in /usr/local/lib/python3.8/dist-packages (from snscrape==0.4.3.20220107.dev66+ge09aea7) (2.23.0)\n",
            "Requirement already satisfied: lxml in /usr/local/lib/python3.8/dist-packages (from snscrape==0.4.3.20220107.dev66+ge09aea7) (4.9.1)\n",
            "Requirement already satisfied: beautifulsoup4 in /usr/local/lib/python3.8/dist-packages (from snscrape==0.4.3.20220107.dev66+ge09aea7) (4.6.3)\n",
            "Requirement already satisfied: filelock in /usr/local/lib/python3.8/dist-packages (from snscrape==0.4.3.20220107.dev66+ge09aea7) (3.8.0)\n",
            "Requirement already satisfied: pytz in /usr/local/lib/python3.8/dist-packages (from snscrape==0.4.3.20220107.dev66+ge09aea7) (2022.6)\n",
            "Requirement already satisfied: certifi>=2017.4.17 in /usr/local/lib/python3.8/dist-packages (from requests[socks]->snscrape==0.4.3.20220107.dev66+ge09aea7) (2022.9.24)\n",
            "Requirement already satisfied: urllib3!=1.25.0,!=1.25.1,<1.26,>=1.21.1 in /usr/local/lib/python3.8/dist-packages (from requests[socks]->snscrape==0.4.3.20220107.dev66+ge09aea7) (1.24.3)\n",
            "Requirement already satisfied: idna<3,>=2.5 in /usr/local/lib/python3.8/dist-packages (from requests[socks]->snscrape==0.4.3.20220107.dev66+ge09aea7) (2.10)\n",
            "Requirement already satisfied: chardet<4,>=3.0.2 in /usr/local/lib/python3.8/dist-packages (from requests[socks]->snscrape==0.4.3.20220107.dev66+ge09aea7) (3.0.4)\n",
            "Requirement already satisfied: PySocks!=1.5.7,>=1.5.6 in /usr/local/lib/python3.8/dist-packages (from requests[socks]->snscrape==0.4.3.20220107.dev66+ge09aea7) (1.7.1)\n",
            "Building wheels for collected packages: snscrape\n",
            "  Building wheel for snscrape (setup.py) ... \u001b[?25l\u001b[?25hdone\n",
            "  Created wheel for snscrape: filename=snscrape-0.4.3.20220107.dev66+ge09aea7-py3-none-any.whl size=68008 sha256=a04800023e45f9e1021ac8692dfe55fdb6f3b91a08eb2a536f2836c126a44560\n",
            "  Stored in directory: /tmp/pip-ephem-wheel-cache-0uzcsx54/wheels/92/42/87/33fa9b18f7a75d02643a9ca3743339aec9be28c6796267c7d8\n",
            "Successfully built snscrape\n",
            "Installing collected packages: snscrape\n",
            "  Attempting uninstall: snscrape\n",
            "    Found existing installation: snscrape 0.4.3.20220106\n",
            "    Uninstalling snscrape-0.4.3.20220106:\n",
            "      Successfully uninstalled snscrape-0.4.3.20220106\n",
            "Successfully installed snscrape-0.4.3.20220107.dev66+ge09aea7\n"
          ]
        }
      ]
    },
    {
      "cell_type": "code",
      "source": [
        "# Imports\n",
        "import snscrape.modules.twitter as sntwitter\n",
        "import pandas as pd"
      ],
      "metadata": {
        "id": "afT14rzO-88t"
      },
      "execution_count": 3,
      "outputs": []
    },
    {
      "cell_type": "code",
      "source": [
        "# Setting variables to be used below\n",
        "maxTweets = 1000\n",
        "\n",
        "# Creating list to append tweet data to\n",
        "tweets_list2 = []\n",
        "\n",
        "# Using TwitterSearchScraper to scrape data and append tweets to list\n",
        "for i,tweet in enumerate(sntwitter.TwitterSearchScraper('RUU KUHP since:2022-12-01 until:2022-12-14').get_items()):\n",
        "    if i>maxTweets:\n",
        "        break\n",
        "    tweets_list2.append([tweet.date, tweet.id, tweet.user.location, tweet.username, tweet.content.encode(\"utf-8\")])"
      ],
      "metadata": {
        "id": "LfqqNI0w_xik",
        "outputId": "fec80685-81ae-4286-89fb-72bd2df9b01e",
        "colab": {
          "base_uri": "https://localhost:8080/"
        }
      },
      "execution_count": 17,
      "outputs": [
        {
          "output_type": "stream",
          "name": "stderr",
          "text": [
            "<ipython-input-17-893b781691aa>:11: FutureWarning: username is deprecated, use user.username instead\n",
            "  tweets_list2.append([tweet.date, tweet.id, tweet.user.location, tweet.username, tweet.content.encode(\"utf-8\")])\n",
            "<ipython-input-17-893b781691aa>:11: FutureWarning: content is deprecated, use rawContent instead\n",
            "  tweets_list2.append([tweet.date, tweet.id, tweet.user.location, tweet.username, tweet.content.encode(\"utf-8\")])\n"
          ]
        }
      ]
    },
    {
      "cell_type": "code",
      "source": [
        "# Creating a dataframe from the tweets list above\n",
        "tweets_df2 = pd.DataFrame(tweets_list2, columns=['Datetime', 'Tweet Id', 'Location', 'Username', 'Text'])\n",
        "\n",
        "# Display first 5 entries from dataframe\n",
        "tweets_df2.head()"
      ],
      "metadata": {
        "id": "tWCUkSHeAvxj",
        "outputId": "1d27c603-2c1a-4e6f-8a97-3686f20201ed",
        "colab": {
          "base_uri": "https://localhost:8080/",
          "height": 206
        }
      },
      "execution_count": 18,
      "outputs": [
        {
          "output_type": "execute_result",
          "data": {
            "text/plain": [
              "                   Datetime             Tweet Id          Location  \\\n",
              "0 2022-12-13 23:24:59+00:00  1602806822284689408  Batam, Indonesia   \n",
              "1 2022-12-13 23:23:28+00:00  1602806437851594752   Bali, Indonesia   \n",
              "2 2022-12-13 23:21:42+00:00  1602805996065533952                     \n",
              "3 2022-12-13 22:13:03+00:00  1602788717042995200         Indonesia   \n",
              "4 2022-12-13 22:01:28+00:00  1602785802723164161                     \n",
              "\n",
              "         Username                                               Text  \n",
              "0      gokepricom  b'Dispar Kepri Jamin RUU KUHP yang Baru Tak Ga...  \n",
              "1        MenSang3  b'Ini RUU KUHP maksudnya...pacaran di hotel, M...  \n",
              "2      UmmuZaki30  b'\"Pasal Karet\" RUU KUHP AntiDemokrasi: Menyer...  \n",
              "3      kompasiana  b'Kohabitasi antara Penolakan dan Penerimaan s...  \n",
              "4  DemokratProbo1  b'jangan diam, perjuangkan hak rakyat salam RU...  "
            ],
            "text/html": [
              "\n",
              "  <div id=\"df-6c5ffa70-de3f-4b76-a323-28248da164f8\">\n",
              "    <div class=\"colab-df-container\">\n",
              "      <div>\n",
              "<style scoped>\n",
              "    .dataframe tbody tr th:only-of-type {\n",
              "        vertical-align: middle;\n",
              "    }\n",
              "\n",
              "    .dataframe tbody tr th {\n",
              "        vertical-align: top;\n",
              "    }\n",
              "\n",
              "    .dataframe thead th {\n",
              "        text-align: right;\n",
              "    }\n",
              "</style>\n",
              "<table border=\"1\" class=\"dataframe\">\n",
              "  <thead>\n",
              "    <tr style=\"text-align: right;\">\n",
              "      <th></th>\n",
              "      <th>Datetime</th>\n",
              "      <th>Tweet Id</th>\n",
              "      <th>Location</th>\n",
              "      <th>Username</th>\n",
              "      <th>Text</th>\n",
              "    </tr>\n",
              "  </thead>\n",
              "  <tbody>\n",
              "    <tr>\n",
              "      <th>0</th>\n",
              "      <td>2022-12-13 23:24:59+00:00</td>\n",
              "      <td>1602806822284689408</td>\n",
              "      <td>Batam, Indonesia</td>\n",
              "      <td>gokepricom</td>\n",
              "      <td>b'Dispar Kepri Jamin RUU KUHP yang Baru Tak Ga...</td>\n",
              "    </tr>\n",
              "    <tr>\n",
              "      <th>1</th>\n",
              "      <td>2022-12-13 23:23:28+00:00</td>\n",
              "      <td>1602806437851594752</td>\n",
              "      <td>Bali, Indonesia</td>\n",
              "      <td>MenSang3</td>\n",
              "      <td>b'Ini RUU KUHP maksudnya...pacaran di hotel, M...</td>\n",
              "    </tr>\n",
              "    <tr>\n",
              "      <th>2</th>\n",
              "      <td>2022-12-13 23:21:42+00:00</td>\n",
              "      <td>1602805996065533952</td>\n",
              "      <td></td>\n",
              "      <td>UmmuZaki30</td>\n",
              "      <td>b'\"Pasal Karet\" RUU KUHP AntiDemokrasi: Menyer...</td>\n",
              "    </tr>\n",
              "    <tr>\n",
              "      <th>3</th>\n",
              "      <td>2022-12-13 22:13:03+00:00</td>\n",
              "      <td>1602788717042995200</td>\n",
              "      <td>Indonesia</td>\n",
              "      <td>kompasiana</td>\n",
              "      <td>b'Kohabitasi antara Penolakan dan Penerimaan s...</td>\n",
              "    </tr>\n",
              "    <tr>\n",
              "      <th>4</th>\n",
              "      <td>2022-12-13 22:01:28+00:00</td>\n",
              "      <td>1602785802723164161</td>\n",
              "      <td></td>\n",
              "      <td>DemokratProbo1</td>\n",
              "      <td>b'jangan diam, perjuangkan hak rakyat salam RU...</td>\n",
              "    </tr>\n",
              "  </tbody>\n",
              "</table>\n",
              "</div>\n",
              "      <button class=\"colab-df-convert\" onclick=\"convertToInteractive('df-6c5ffa70-de3f-4b76-a323-28248da164f8')\"\n",
              "              title=\"Convert this dataframe to an interactive table.\"\n",
              "              style=\"display:none;\">\n",
              "        \n",
              "  <svg xmlns=\"http://www.w3.org/2000/svg\" height=\"24px\"viewBox=\"0 0 24 24\"\n",
              "       width=\"24px\">\n",
              "    <path d=\"M0 0h24v24H0V0z\" fill=\"none\"/>\n",
              "    <path d=\"M18.56 5.44l.94 2.06.94-2.06 2.06-.94-2.06-.94-.94-2.06-.94 2.06-2.06.94zm-11 1L8.5 8.5l.94-2.06 2.06-.94-2.06-.94L8.5 2.5l-.94 2.06-2.06.94zm10 10l.94 2.06.94-2.06 2.06-.94-2.06-.94-.94-2.06-.94 2.06-2.06.94z\"/><path d=\"M17.41 7.96l-1.37-1.37c-.4-.4-.92-.59-1.43-.59-.52 0-1.04.2-1.43.59L10.3 9.45l-7.72 7.72c-.78.78-.78 2.05 0 2.83L4 21.41c.39.39.9.59 1.41.59.51 0 1.02-.2 1.41-.59l7.78-7.78 2.81-2.81c.8-.78.8-2.07 0-2.86zM5.41 20L4 18.59l7.72-7.72 1.47 1.35L5.41 20z\"/>\n",
              "  </svg>\n",
              "      </button>\n",
              "      \n",
              "  <style>\n",
              "    .colab-df-container {\n",
              "      display:flex;\n",
              "      flex-wrap:wrap;\n",
              "      gap: 12px;\n",
              "    }\n",
              "\n",
              "    .colab-df-convert {\n",
              "      background-color: #E8F0FE;\n",
              "      border: none;\n",
              "      border-radius: 50%;\n",
              "      cursor: pointer;\n",
              "      display: none;\n",
              "      fill: #1967D2;\n",
              "      height: 32px;\n",
              "      padding: 0 0 0 0;\n",
              "      width: 32px;\n",
              "    }\n",
              "\n",
              "    .colab-df-convert:hover {\n",
              "      background-color: #E2EBFA;\n",
              "      box-shadow: 0px 1px 2px rgba(60, 64, 67, 0.3), 0px 1px 3px 1px rgba(60, 64, 67, 0.15);\n",
              "      fill: #174EA6;\n",
              "    }\n",
              "\n",
              "    [theme=dark] .colab-df-convert {\n",
              "      background-color: #3B4455;\n",
              "      fill: #D2E3FC;\n",
              "    }\n",
              "\n",
              "    [theme=dark] .colab-df-convert:hover {\n",
              "      background-color: #434B5C;\n",
              "      box-shadow: 0px 1px 3px 1px rgba(0, 0, 0, 0.15);\n",
              "      filter: drop-shadow(0px 1px 2px rgba(0, 0, 0, 0.3));\n",
              "      fill: #FFFFFF;\n",
              "    }\n",
              "  </style>\n",
              "\n",
              "      <script>\n",
              "        const buttonEl =\n",
              "          document.querySelector('#df-6c5ffa70-de3f-4b76-a323-28248da164f8 button.colab-df-convert');\n",
              "        buttonEl.style.display =\n",
              "          google.colab.kernel.accessAllowed ? 'block' : 'none';\n",
              "\n",
              "        async function convertToInteractive(key) {\n",
              "          const element = document.querySelector('#df-6c5ffa70-de3f-4b76-a323-28248da164f8');\n",
              "          const dataTable =\n",
              "            await google.colab.kernel.invokeFunction('convertToInteractive',\n",
              "                                                     [key], {});\n",
              "          if (!dataTable) return;\n",
              "\n",
              "          const docLinkHtml = 'Like what you see? Visit the ' +\n",
              "            '<a target=\"_blank\" href=https://colab.research.google.com/notebooks/data_table.ipynb>data table notebook</a>'\n",
              "            + ' to learn more about interactive tables.';\n",
              "          element.innerHTML = '';\n",
              "          dataTable['output_type'] = 'display_data';\n",
              "          await google.colab.output.renderOutput(dataTable, element);\n",
              "          const docLink = document.createElement('div');\n",
              "          docLink.innerHTML = docLinkHtml;\n",
              "          element.appendChild(docLink);\n",
              "        }\n",
              "      </script>\n",
              "    </div>\n",
              "  </div>\n",
              "  "
            ]
          },
          "metadata": {},
          "execution_count": 18
        }
      ]
    },
    {
      "cell_type": "code",
      "source": [
        "# Export dataframe into a CSV\n",
        "tweets_df2.to_csv('ruu_05.csv', sep=',', index=False)"
      ],
      "metadata": {
        "id": "BgYuyE-BA5ZJ"
      },
      "execution_count": 19,
      "outputs": []
    }
  ]
}